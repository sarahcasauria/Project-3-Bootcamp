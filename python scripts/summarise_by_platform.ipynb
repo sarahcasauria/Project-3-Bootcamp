{
 "cells": [
  {
   "cell_type": "code",
   "execution_count": null,
   "id": "d2540a1e",
   "metadata": {},
   "outputs": [],
   "source": [
    "# Import dependencies\n",
    "import pandas as pd\n",
    "import numpy as np"
   ]
  },
  {
   "cell_type": "code",
   "execution_count": null,
   "id": "55d83c6f",
   "metadata": {},
   "outputs": [],
   "source": [
    "# Read in data\n",
    "df = pd.read_csv(\"../data/cleaned_data.csv\")\n",
    "\n",
    "df.head()"
   ]
  },
  {
   "cell_type": "code",
   "execution_count": null,
   "id": "c419ea61",
   "metadata": {},
   "outputs": [],
   "source": [
    "# Get column values for rating and genre\n",
    "print(df.Rating.unique())\n",
    "print(df.Genre.unique())"
   ]
  },
  {
   "cell_type": "code",
   "execution_count": null,
   "id": "98e1c5dd",
   "metadata": {},
   "outputs": [],
   "source": [
    "# Create new columns to count number of ratings for each row\n",
    "df[\"E_Rating\"] = np.where(df['Rating']==\"E\", 1, 0)\n",
    "df[\"M_Rating\"] = np.where(df['Rating']==\"M\", 1, 0)\n",
    "df[\"T_Rating\"] = np.where(df['Rating']==\"T\", 1, 0)\n",
    "df[\"E10+_Rating\"] = np.where(df['Rating']==\"E10+\", 1, 0)\n",
    "df[\"AO_Rating\"] = np.where(df['Rating']==\"AO\", 1, 0)\n",
    "df[\"K-A_Rating\"] = np.where(df['Rating']==\"K-A\", 1, 0)\n",
    "df[\"RP_Rating\"] = np.where(df['Rating']==\"RP\", 1, 0)"
   ]
  },
  {
   "cell_type": "code",
   "execution_count": null,
   "id": "ea750d15",
   "metadata": {},
   "outputs": [],
   "source": [
    "# Create new columns to count number of genres for each row\n",
    "df[\"Sports_Genre\"] = np.where(df['Genre']==\"Sports\", 1, 0)\n",
    "df[\"Racing_Genre\"] = np.where(df['Genre']==\"Racing\", 1, 0)\n",
    "df[\"Platform_Genre\"] = np.where(df['Genre']==\"Platform\", 1, 0)\n",
    "df[\"Misc_Genre\"] = np.where(df['Genre']==\"Misc\", 1, 0)\n",
    "df[\"Action_Genre\"] = np.where(df['Genre']==\"Action\", 1, 0)\n",
    "df[\"Puzzle_Genre\"] = np.where(df['Genre']==\"Puzzle\", 1, 0)\n",
    "df[\"Shooter_Genre\"] = np.where(df['Genre']==\"Shooter\", 1, 0)\n",
    "df[\"Fighting_Genre\"] = np.where(df['Genre']==\"Fighting\", 1, 0)\n",
    "df[\"Simulation_Genre\"] = np.where(df['Genre']==\"Simulation\", 1, 0)\n",
    "df[\"Role-Playing_Genre\"] = np.where(df['Genre']==\"Role-Playing\", 1, 0)\n",
    "df[\"Adventure_Genre\"] = np.where(df['Genre']==\"Adventure\", 1, 0)\n",
    "df[\"Strategy_Genre\"] = np.where(df['Genre']==\"Strategy\", 1, 0)"
   ]
  },
  {
   "cell_type": "code",
   "execution_count": null,
   "id": "954e3bfc",
   "metadata": {},
   "outputs": [],
   "source": [
    "df.head(10)"
   ]
  },
  {
   "cell_type": "code",
   "execution_count": null,
   "id": "7b5f81b6",
   "metadata": {},
   "outputs": [],
   "source": [
    "# Create a groupby and aggregate mean data for sales and critic/user scores, \n",
    "# and sum all ratings and genres per platform\n",
    "platform_summary = df.set_index('Platform').groupby(['Platform']).agg({\"Year_of_Release\": ['min', 'max'],\n",
    "                                             \"NA_Sales\": ['mean'],\n",
    "                                              \"EU_Sales\": ['mean'],\n",
    "                                              \"JP_Sales\": ['mean'],\n",
    "                                              \"Other_Sales\": ['mean'],\n",
    "                                              \"Global_Sales\": ['mean'],\n",
    "                                              \"Critic_Score\": ['mean'],\n",
    "                                              \"User_Score\" : ['mean'],\n",
    "                                             \"E_Rating\": ['sum'],\n",
    "                                              \"M_Rating\": ['sum'],\n",
    "                                              \"T_Rating\": ['sum'],\n",
    "                                              \"E10+_Rating\": ['sum'],\n",
    "                                              \"AO_Rating\": ['sum'],\n",
    "                                              \"K-A_Rating\": ['sum'],\n",
    "                                              \"RP_Rating\" : ['sum'],\n",
    "                                             \"Sports_Genre\": ['sum'],\n",
    "                                             \"Racing_Genre\": ['sum'],\n",
    "                                             \"Platform_Genre\": ['sum'],\n",
    "                                             \"Misc_Genre\": ['sum'],\n",
    "                                             \"Action_Genre\": ['sum'],\n",
    "                                             \"Shooter_Genre\": ['sum'],\n",
    "                                             \"Puzzle_Genre\": ['sum'],\n",
    "                                             \"Fighting_Genre\": ['sum'],\n",
    "                                             \"Simulation_Genre\": ['sum'],\n",
    "                                             \"Role-Playing_Genre\": ['sum'],\n",
    "                                             \"Adventure_Genre\": ['sum'],\n",
    "                                             \"Strategy_Genre\" : ['sum']})\n",
    "\n",
    "platform_summary"
   ]
  },
  {
   "cell_type": "code",
   "execution_count": null,
   "id": "17c1491d",
   "metadata": {},
   "outputs": [],
   "source": [
    "# flatten the column headers\n",
    "platform_summary.columns = platform_summary.columns.map('_'.join)"
   ]
  },
  {
   "cell_type": "code",
   "execution_count": null,
   "id": "9d5d0b50",
   "metadata": {},
   "outputs": [],
   "source": [
    "# reset index\n",
    "platform_summary = platform_summary.reset_index()\n",
    "platform_summary"
   ]
  },
  {
   "cell_type": "code",
   "execution_count": null,
   "id": "0eeeae03",
   "metadata": {},
   "outputs": [],
   "source": [
    "# export to CSV\n",
    "platform_summary.to_csv(\"../data/platform_summary.csv\", index=False)"
   ]
  },
  {
   "cell_type": "code",
   "execution_count": null,
   "id": "9bacee79",
   "metadata": {},
   "outputs": [],
   "source": []
  }
 ],
 "metadata": {
  "kernelspec": {
   "display_name": "Python 3",
   "language": "python",
   "name": "python3"
  },
  "language_info": {
   "codemirror_mode": {
    "name": "ipython",
    "version": 3
   },
   "file_extension": ".py",
   "mimetype": "text/x-python",
   "name": "python",
   "nbconvert_exporter": "python",
   "pygments_lexer": "ipython3",
   "version": "3.6.10"
  }
 },
 "nbformat": 4,
 "nbformat_minor": 5
}
